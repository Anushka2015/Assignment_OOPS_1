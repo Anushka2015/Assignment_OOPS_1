{
 "cells": [
  {
   "cell_type": "markdown",
   "id": "bff79a4c",
   "metadata": {},
   "source": [
    "# Q1. What is the purpose of Python's OOP?\n",
    "Ans====>Object-oriented programming (OOP) is a method of structuring a program by bundling related properties and behaviors into individual objects. "
   ]
  },
  {
   "cell_type": "markdown",
   "id": "86ea73d4",
   "metadata": {},
   "source": [
    "# Q2. Where does an inheritance search look for an attribute?\n",
    "Ans====> first in the instance object, then in the class the instance was created from, then in all higher superclasses, progressing from left to right (by default). "
   ]
  },
  {
   "cell_type": "markdown",
   "id": "cd28de1b",
   "metadata": {},
   "source": [
    "# Q3. How do you distinguish between a class object and an instance object?\n",
    "Ans====>Class objects represent the class itself, while instance objects represent individual instances of the class."
   ]
  },
  {
   "cell_type": "markdown",
   "id": "3d0decc2",
   "metadata": {},
   "source": [
    "# Q4. What makes the first argument in a class’s method function special?\n",
    "Ans====>A class method is similar to an instance method, but it has a class object passed as its first argument.When an instance method is called from an instance object, that instance object is automatically passed as the first argument to the method."
   ]
  },
  {
   "cell_type": "markdown",
   "id": "9378b30b",
   "metadata": {},
   "source": [
    "# Q5. What is the purpose of the __init__ method?\n",
    "Ans====>__init__ is a special method to initialize the properties,intance variable and attributes."
   ]
  },
  {
   "cell_type": "markdown",
   "id": "eedf4d14",
   "metadata": {},
   "source": [
    "# Q6. What is the process for creating a class instance?\n",
    "Ans====> call the class using class name and pass in whatever arguments its __init__ method accepts."
   ]
  },
  {
   "cell_type": "markdown",
   "id": "38772112",
   "metadata": {},
   "source": [
    "# Q7. What is the process for creating a class?\n",
    "Ans====>a class can be created by using the keyword class, followed by the class name."
   ]
  },
  {
   "cell_type": "markdown",
   "id": "d9ac6883",
   "metadata": {},
   "source": [
    "# Q8. How would you define the superclasses of a class?\n",
    "Ans====>A superclass is the class from which many subclasses can be created. The subclasses inherit the characteristics of a superclass. The superclass is also known as the parent class or base class.If Vehicle is the Superclass and then subclasses can be Car, Truck and Motorcycle etc."
   ]
  },
  {
   "cell_type": "code",
   "execution_count": null,
   "id": "073f9385",
   "metadata": {},
   "outputs": [],
   "source": []
  }
 ],
 "metadata": {
  "kernelspec": {
   "display_name": "Python 3 (ipykernel)",
   "language": "python",
   "name": "python3"
  },
  "language_info": {
   "codemirror_mode": {
    "name": "ipython",
    "version": 3
   },
   "file_extension": ".py",
   "mimetype": "text/x-python",
   "name": "python",
   "nbconvert_exporter": "python",
   "pygments_lexer": "ipython3",
   "version": "3.9.0"
  }
 },
 "nbformat": 4,
 "nbformat_minor": 5
}
